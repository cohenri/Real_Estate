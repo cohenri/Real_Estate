{
 "cells": [
  {
   "cell_type": "markdown",
   "metadata": {
    "papermill": {
     "duration": 0.007425,
     "end_time": "2021-01-06T18:41:35.832175",
     "exception": false,
     "start_time": "2021-01-06T18:41:35.824750",
     "status": "completed"
    },
    "tags": []
   },
   "source": [
    "<h1>Retail Housing - Price Projections</h1>\n",
    "\n",
    "<h3>The steps in this notebook are:</h3>\n",
    "\n",
    "<ol>\n",
    "<li>Load packages needed\n",
    "<li>Read data\n",
    "<li>Analyze data\n",
    "<li>Feature Engineering\n",
    "<li>Split data - training vs projection\n",
    "<li>Train model - Decision Tree\n",
    "<li>Make projections\n",
    "<li>Review results\n",
    "<li>Improve model - Ensemble (Random Forrest)\n",
    "<li>Review results\n",
    "</ol>"
   ]
  },
  {
   "cell_type": "markdown",
   "metadata": {},
   "source": [
    "<h3>Data Source and Approach</h3>\n",
    "This project uses the Ames housing data available on Kaggle.  The data includes 81 features describing a wide range of characteristics of 1,460 homes in Ames, Iowa sold between 2006 and 2010.  Models are trained on houses sold prior to 2010 and then evaluated on houses sold in 2010."
   ]
  },
  {
   "cell_type": "markdown",
   "metadata": {},
   "source": [
    "<h3>Step 1 - Load packages needed</h3>"
   ]
  },
  {
   "cell_type": "code",
   "execution_count": null,
   "metadata": {
    "execution": {
     "iopub.execute_input": "2021-01-06T18:41:35.880627Z",
     "iopub.status.busy": "2021-01-06T18:41:35.879867Z",
     "iopub.status.idle": "2021-01-06T18:41:37.977020Z",
     "shell.execute_reply": "2021-01-06T18:41:37.976319Z"
    },
    "papermill": {
     "duration": 2.121961,
     "end_time": "2021-01-06T18:41:37.977142",
     "exception": false,
     "start_time": "2021-01-06T18:41:35.855181",
     "status": "completed"
    },
    "tags": []
   },
   "outputs": [],
   "source": [
    "import pandas as pd\n",
    "from sklearn.ensemble import RandomForestRegressor\n",
    "from sklearn.metrics import mean_absolute_error\n",
    "from sklearn.model_selection import train_test_split\n",
    "from sklearn.tree import DecisionTreeRegressor\n",
    "print('Done')"
   ]
  },
  {
   "cell_type": "markdown",
   "metadata": {},
   "source": [
    "<h3>Step 2 - Read data</h3>"
   ]
  },
  {
   "cell_type": "code",
   "execution_count": null,
   "metadata": {},
   "outputs": [],
   "source": [
    "# read the training data\n",
    "home_data_df = pd.read_csv('train.csv')\n",
    "print('Done')"
   ]
  },
  {
   "cell_type": "markdown",
   "metadata": {},
   "source": [
    "<h3>Step 3 - Analyze data</h3>"
   ]
  },
  {
   "cell_type": "code",
   "execution_count": null,
   "metadata": {},
   "outputs": [],
   "source": [
    "home_data_df.head()"
   ]
  },
  {
   "cell_type": "code",
   "execution_count": null,
   "metadata": {},
   "outputs": [],
   "source": [
    "home_data_df.describe\n"
   ]
  },
  {
   "cell_type": "markdown",
   "metadata": {},
   "source": [
    "<h3>Step 4 - Feature Engineering</h3>"
   ]
  },
  {
   "cell_type": "code",
   "execution_count": null,
   "metadata": {},
   "outputs": [],
   "source": [
    "# Create target object and call it y\n",
    "#target = ['Id', 'SalePrice']\n",
    "target = ['SalePrice']\n",
    "y = home_data_df[target]\n",
    "print('y ------------------')\n",
    "print(y.head())\n",
    "\n",
    "print(\" \")\n",
    "\n",
    "# Create features and call it X\n",
    "#features = ['Id', 'LotArea', 'YearBuilt', '1stFlrSF', '2ndFlrSF', 'FullBath', 'BedroomAbvGr', 'TotRmsAbvGrd']\n",
    "features = ['LotArea', 'YearBuilt', '1stFlrSF', '2ndFlrSF', 'FullBath', 'BedroomAbvGr', 'TotRmsAbvGrd']\n",
    "X = home_data_df[features]\n",
    "print('X ------------------')\n",
    "print(X.head())\n",
    "\n",
    "print('Done')"
   ]
  },
  {
   "cell_type": "markdown",
   "metadata": {},
   "source": [
    "<h3>Step 5 - Split data - training vs projection</h3>"
   ]
  },
  {
   "cell_type": "code",
   "execution_count": null,
   "metadata": {},
   "outputs": [],
   "source": [
    "# Split into validation and training data\n",
    "train_X, val_X, train_y, val_y = train_test_split(X, y, random_state=1)\n",
    "print('Done')"
   ]
  },
  {
   "cell_type": "code",
   "execution_count": null,
   "metadata": {},
   "outputs": [],
   "source": [
    "# debugging - uncomment as needed\n",
    "print('train_X ------------')\n",
    "print(train_X.head())\n",
    "print('train_y ------------')\n",
    "print(train_y.head())\n",
    "print('val_X   ------------')\n",
    "print(val_X.head())\n",
    "print('val_y   ------------')\n",
    "print(val_y.head())\n"
   ]
  },
  {
   "cell_type": "markdown",
   "metadata": {},
   "source": [
    "<h3>Step 6 - Train model - Decision Tree</h3>"
   ]
  },
  {
   "cell_type": "code",
   "execution_count": null,
   "metadata": {},
   "outputs": [],
   "source": [
    "# Specify Model\n",
    "iowa_model = DecisionTreeRegressor(max_leaf_nodes=100, random_state=1)\n",
    "# Fit Model\n",
    "iowa_model.fit(train_X, train_y)"
   ]
  },
  {
   "cell_type": "markdown",
   "metadata": {},
   "source": [
    "<h3>Step 7 - Make projections</h3>"
   ]
  },
  {
   "cell_type": "code",
   "execution_count": null,
   "metadata": {},
   "outputs": [],
   "source": [
    "# Make validation predictions and calculate mean absolute error\n",
    "val_predictions = iowa_model.predict(val_X)\n",
    "print(type(val_predictions))\n",
    "print(val_predictions)\n",
    "print('Done')"
   ]
  },
  {
   "cell_type": "code",
   "execution_count": null,
   "metadata": {},
   "outputs": [],
   "source": []
  },
  {
   "cell_type": "markdown",
   "metadata": {},
   "source": [
    "<h3>Step 8 - Review results</h3>"
   ]
  },
  {
   "cell_type": "code",
   "execution_count": null,
   "metadata": {},
   "outputs": [],
   "source": [
    "val_mae = mean_absolute_error(val_predictions, val_y)\n",
    "print(\"Validation MAE when not specifying max_leaf_nodes: {:,.0f}\".format(val_mae))"
   ]
  },
  {
   "cell_type": "code",
   "execution_count": null,
   "metadata": {},
   "outputs": [],
   "source": [
    "# create csv output for further analysis "
   ]
  },
  {
   "cell_type": "code",
   "execution_count": null,
   "metadata": {},
   "outputs": [],
   "source": [
    "output = pd.DataFrame({'Id': val_y.index,\n",
    "                       'SalePrice': val_y.SalePrice})\n",
    "output.to_csv('IDsAndPrices - Actual.csv', index=False)\n",
    "\n",
    "print('Done')"
   ]
  },
  {
   "cell_type": "code",
   "execution_count": null,
   "metadata": {},
   "outputs": [],
   "source": [
    "val_pred_df = pd.DataFrame(val_predictions, columns = ['SalePrice'])\n",
    "print(val_pred_df.head())\n",
    "\n",
    "output = pd.DataFrame({'Id': val_y.index,\n",
    "                       'SalePrice': val_pred_df.SalePrice})\n",
    "output.to_csv('IDsAndPrices - Predict.csv', index=False)\n",
    "\n",
    "print('Done')"
   ]
  },
  {
   "cell_type": "code",
   "execution_count": null,
   "metadata": {},
   "outputs": [],
   "source": []
  },
  {
   "cell_type": "markdown",
   "metadata": {},
   "source": [
    "<h3>Step 9 - Improve model - Ensemble (Random Forrest)</h3>"
   ]
  },
  {
   "cell_type": "code",
   "execution_count": null,
   "metadata": {},
   "outputs": [],
   "source": [
    "# Define the model. Set random_state to 1\n",
    "rf_model = RandomForestRegressor(random_state=1)\n",
    "rf_model.fit(train_X, train_y)\n"
   ]
  },
  {
   "cell_type": "code",
   "execution_count": null,
   "metadata": {},
   "outputs": [],
   "source": [
    "rf_val_predictions = rf_model.predict(val_X)\n",
    "\n",
    "print('Done')"
   ]
  },
  {
   "cell_type": "markdown",
   "metadata": {},
   "source": [
    "<h3>Step 10 - Review results</h3>"
   ]
  },
  {
   "cell_type": "code",
   "execution_count": null,
   "metadata": {},
   "outputs": [],
   "source": [
    "rf_val_mae = mean_absolute_error(rf_val_predictions, val_y)\n",
    "\n",
    "print(\"Validation MAE for Random Forest Model: {:,.0f}\".format(rf_val_mae))"
   ]
  },
  {
   "cell_type": "code",
   "execution_count": null,
   "metadata": {},
   "outputs": [],
   "source": []
  },
  {
   "cell_type": "code",
   "execution_count": null,
   "metadata": {},
   "outputs": [],
   "source": []
  },
  {
   "cell_type": "code",
   "execution_count": null,
   "metadata": {},
   "outputs": [],
   "source": []
  },
  {
   "cell_type": "code",
   "execution_count": null,
   "metadata": {},
   "outputs": [],
   "source": []
  },
  {
   "cell_type": "code",
   "execution_count": null,
   "metadata": {
    "execution": {
     "iopub.execute_input": "2021-01-06T18:41:38.615898Z",
     "iopub.status.busy": "2021-01-06T18:41:38.615132Z",
     "iopub.status.idle": "2021-01-06T18:41:39.098528Z",
     "shell.execute_reply": "2021-01-06T18:41:39.099080Z"
    },
    "papermill": {
     "duration": 0.496591,
     "end_time": "2021-01-06T18:41:39.099250",
     "exception": false,
     "start_time": "2021-01-06T18:41:38.602659",
     "status": "completed"
    },
    "tags": []
   },
   "outputs": [],
   "source": [
    "# project template\n",
    "\n",
    "# path to file you will use for predictions\n",
    "#test_data_path = '../input/test.csv'\n",
    "\n",
    "# read test data file using pandas\n",
    "#test_data = pd.read_csv(test_data_path)\n",
    "\n",
    "# create test_X which comes from test_data but includes only the columns you used for prediction.\n",
    "# The list of columns is stored in a variable called features\n",
    "#features = ['LotArea', 'YearBuilt', '1stFlrSF', '2ndFlrSF', 'FullBath', 'BedroomAbvGr', 'TotRmsAbvGrd']\n",
    "#test_X = test_data[features]\n",
    "\n",
    "# make predictions which we will submit. \n",
    "#test_preds = rf_model_on_full_data.predict(test_X)\n",
    "\n",
    "# The lines below shows how to save predictions in format used for competition scoring\n",
    "\n",
    "#output = pd.DataFrame({'Id': home_data_df.Id,\n",
    "#                       'SalePrice': home_data_df.SalePrice})\n",
    "#output.to_csv('IDsAndPrices.csv', index=False)\n"
   ]
  },
  {
   "cell_type": "code",
   "execution_count": null,
   "metadata": {},
   "outputs": [],
   "source": []
  },
  {
   "cell_type": "code",
   "execution_count": null,
   "metadata": {},
   "outputs": [],
   "source": []
  }
 ],
 "metadata": {
  "kernelspec": {
   "display_name": "Python 3",
   "language": "python",
   "name": "python3"
  },
  "language_info": {
   "codemirror_mode": {
    "name": "ipython",
    "version": 3
   },
   "file_extension": ".py",
   "mimetype": "text/x-python",
   "name": "python",
   "nbconvert_exporter": "python",
   "pygments_lexer": "ipython3",
   "version": "3.8.0"
  },
  "papermill": {
   "duration": 9.103,
   "end_time": "2021-01-06T18:41:39.310022",
   "environment_variables": {},
   "exception": null,
   "input_path": "__notebook__.ipynb",
   "output_path": "__notebook__.ipynb",
   "parameters": {},
   "start_time": "2021-01-06T18:41:30.207022",
   "version": "2.1.0"
  }
 },
 "nbformat": 4,
 "nbformat_minor": 4
}
